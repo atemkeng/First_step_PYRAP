{
 "metadata": {
  "name": ""
 },
 "nbformat": 3,
 "nbformat_minor": 0,
 "worksheets": [
  {
   "cells": [
    {
     "cell_type": "raw",
     "metadata": {},
     "source": [
      "Pyrap allows us to access the data set \n",
      "pylab for plotting and numpy for array manipulation"
     ]
    },
    {
     "cell_type": "code",
     "collapsed": false,
     "input": [
      "%matplotlib inline\n",
      "import numpy as np\n",
      "import pylab\n",
      "from pyrap.tables import table\n"
     ],
     "language": "python",
     "metadata": {},
     "outputs": [],
     "prompt_number": "*"
    },
    {
     "cell_type": "raw",
     "metadata": {},
     "source": [
      "Open the MS and load the DATA column for all antennas, DATA is a numpy"
     ]
    },
    {
     "cell_type": "code",
     "collapsed": false,
     "input": [
      "tab = table(\"MeerKAT-64ch_w1000Khz_4hrs_integration1_5s.MS\",readonly=False) # this put a lock on the MS in memory, asynchronous access not allow.\n",
      "DATA = tab.getcol(\"DATA\")\n",
      "#print DATA"
     ],
     "language": "python",
     "metadata": {},
     "outputs": [
      {
       "output_type": "stream",
       "stream": "stdout",
       "text": [
        "Successful read/write open of default-locked table MeerKAT-64ch_w1000Khz_4hrs_integration1_5s.MS: 24 columns, 19968000 rows\n"
       ]
      }
     ],
     "prompt_number": 3
    },
    {
     "cell_type": "raw",
     "metadata": {},
     "source": [
      "Load frequencies, this will gives you a single frequency if not observing at multi-frequency"
     ]
    },
    {
     "cell_type": "code",
     "collapsed": false,
     "input": [
      "tfreqs = table(tab.getkeyword(\"SPECTRAL_WINDOW\"),readonly=False)\n",
      "freqs = tfreqs.getcol(\"CHAN_FREQ\",0)\n",
      "#print freqs"
     ],
     "language": "python",
     "metadata": {},
     "outputs": [
      {
       "output_type": "stream",
       "stream": "stdout",
       "text": [
        "Successful read/write open of default-locked table /home/atemkeng/First_step_PYRAP/MeerKAT-64ch_w1000Khz_4hrs_integration1_5s.MS/SPECTRAL_WINDOW: 14 columns, 1 rows\n",
        "[[  1.40000050e+09   1.40000150e+09   1.40000250e+09   1.40000350e+09\n",
        "    1.40000450e+09   1.40000550e+09   1.40000650e+09   1.40000750e+09\n",
        "    1.40000850e+09   1.40000950e+09   1.40001050e+09   1.40001150e+09\n",
        "    1.40001250e+09   1.40001350e+09   1.40001450e+09   1.40001550e+09\n",
        "    1.40001650e+09   1.40001750e+09   1.40001850e+09   1.40001950e+09\n",
        "    1.40002050e+09   1.40002150e+09   1.40002250e+09   1.40002350e+09\n",
        "    1.40002450e+09   1.40002550e+09   1.40002650e+09   1.40002750e+09\n",
        "    1.40002850e+09   1.40002950e+09   1.40003050e+09   1.40003150e+09\n",
        "    1.40003250e+09   1.40003350e+09   1.40003450e+09   1.40003550e+09\n",
        "    1.40003650e+09   1.40003750e+09   1.40003850e+09   1.40003950e+09\n",
        "    1.40004050e+09   1.40004150e+09   1.40004250e+09   1.40004350e+09\n",
        "    1.40004450e+09   1.40004550e+09   1.40004650e+09   1.40004750e+09\n",
        "    1.40004850e+09   1.40004950e+09   1.40005050e+09   1.40005150e+09\n",
        "    1.40005250e+09   1.40005350e+09   1.40005450e+09   1.40005550e+09\n",
        "    1.40005650e+09   1.40005750e+09   1.40005850e+09   1.40005950e+09\n",
        "    1.40006050e+09   1.40006150e+09   1.40006250e+09   1.40006350e+09]]\n"
       ]
      }
     ],
     "prompt_number": 4
    },
    {
     "cell_type": "raw",
     "metadata": {},
     "source": [
      "Grabs the columns corresponding to the UVW bins and antennas indices"
     ]
    },
    {
     "cell_type": "code",
     "collapsed": false,
     "input": [
      "uvw = tab.getcol(\"UVW\")\n",
      "A1 = tab.getcol(\"ANTENNA1\")\n",
      "A2 = tab.getcol(\"ANTENNA2\")\n",
      "u = uvw[:,0]\n",
      "v = uvw[:,1]\n",
      "w = uvw[:,2]\n",
      "#print uvw"
     ],
     "language": "python",
     "metadata": {},
     "outputs": [
      {
       "output_type": "stream",
       "stream": "stdout",
       "text": [
        "[[    0.             0.             0.        ]\n",
        " [  774.51215579  -173.74607733   385.51968037]\n",
        " [  486.48548982  -120.66688066   244.39514846]\n",
        " ..., \n",
        " [    0.             0.             0.        ]\n",
        " [  133.1913639  -4269.48190478   681.09689512]\n",
        " [    0.             0.             0.        ]]\n"
       ]
      }
     ],
     "prompt_number": 5
    },
    {
     "cell_type": "raw",
     "metadata": {},
     "source": [
      "The following plots the observation uv-coverage"
     ]
    },
    {
     "cell_type": "code",
     "collapsed": false,
     "input": [
      "pylab.plot(uvw[:,0],uvw[:,1], \".b\",-uvw[:,0],-uvw[:,1], \".g\", markersize=1)\n",
      "\n",
      "pylab.axis('image')\n",
      "\n",
      "pylab.xlabel(\"u(m)\")\n",
      "pylab.ylabel(\"v(m)\")\n",
      "\n",
      "pylab.show()"
     ],
     "language": "python",
     "metadata": {},
     "outputs": [],
     "prompt_number": "*"
    },
    {
     "cell_type": "raw",
     "metadata": {},
     "source": [
      "Now let see how to extract the DATA for each baseline"
     ]
    },
    {
     "cell_type": "code",
     "collapsed": false,
     "input": [
      "na = np.max(A1)+1 # the number of antennas\n",
      "print na"
     ],
     "language": "python",
     "metadata": {},
     "outputs": [],
     "prompt_number": "*"
    },
    {
     "cell_type": "code",
     "collapsed": false,
     "input": [
      "for p in range(na):\n",
      "    for q in range(na):\n",
      "        indbase = (A1==p)&(A2==q) # an array of indexes for this baseline\n",
      "        datapq = DATA[indbase] # data for baseline pq\n",
      "        # here you can do what you want with datapq, for example let us print the average data for the baseline pq\n",
      "        # the result for the baseline is an array of 4 Stocks parameters I,Q,U,V\n",
      "        #print \"average data, baseline p=%d, q=%d, %s\"%(p,q, datapq.mean(axis=0))\n",
      "        \n",
      "        "
     ],
     "language": "python",
     "metadata": {},
     "outputs": [],
     "prompt_number": "*"
    },
    {
     "cell_type": "raw",
     "metadata": {},
     "source": [
      "remove the lock on the measurement set to give the opportuinuity for another process to access"
     ]
    },
    {
     "cell_type": "code",
     "collapsed": false,
     "input": [
      "tab.close()"
     ],
     "language": "python",
     "metadata": {},
     "outputs": [],
     "prompt_number": "*"
    },
    {
     "cell_type": "code",
     "collapsed": false,
     "input": [],
     "language": "python",
     "metadata": {},
     "outputs": []
    }
   ],
   "metadata": {}
  }
 ]
}