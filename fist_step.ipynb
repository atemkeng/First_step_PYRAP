{
 "metadata": {
  "name": ""
 },
 "nbformat": 3,
 "nbformat_minor": 0,
 "worksheets": [
  {
   "cells": [
    {
     "cell_type": "raw",
     "metadata": {},
     "source": [
      "Pyrap allows us to access the data set \n",
      "pylab for plotting and numpy for array manipulation"
     ]
    },
    {
     "cell_type": "code",
     "collapsed": false,
     "input": [
      "%matplotlib inline\n",
      "import numpy as np\n",
      "import pylab\n",
      "from pyrap.tables import table\n"
     ],
     "language": "python",
     "metadata": {},
     "outputs": [],
     "prompt_number": "*"
    },
    {
     "cell_type": "raw",
     "metadata": {},
     "source": [
      "Open the MS and load the DATA column for all antennas, DATA is a numpy"
     ]
    },
    {
     "cell_type": "code",
     "collapsed": false,
     "input": [
      "tab = table(\"MeerKAT-64ch_w1000Khz_4hrs_integration1_5s.MS\",readonly=False) # this put a lock on the MS in memory, asynchronous access not allow.\n",
      "DATA = tab.getcol(\"DATA\")\n",
      "#print DATA"
     ],
     "language": "python",
     "metadata": {},
     "outputs": [],
     "prompt_number": "*"
    },
    {
     "cell_type": "raw",
     "metadata": {},
     "source": [
      "Load frequencies, this will gives you a single frequency if not observing at multi-frequency"
     ]
    },
    {
     "cell_type": "code",
     "collapsed": false,
     "input": [
      "tfreqs = table(tab.getkeyword(\"SPECTRAL_WINDOW\"),readonly=False)\n",
      "freqs = tfreqs.getcol(\"CHAN_FREQ\",0)\n",
      "print freqs"
     ],
     "language": "python",
     "metadata": {},
     "outputs": [],
     "prompt_number": "*"
    },
    {
     "cell_type": "raw",
     "metadata": {},
     "source": [
      "Grabs the columns corresponding to the UVW bins and antennas indices"
     ]
    },
    {
     "cell_type": "code",
     "collapsed": false,
     "input": [
      "uvw = tab.getcol(\"UVW\")\n",
      "A1 = tab.getcol(\"ANTENNA1\")\n",
      "A2 = tab.getcol(\"ANTENNA2\")\n",
      "u = uvw[:,0]\n",
      "v = uvw[:,1]\n",
      "w = uvw[:,2]\n",
      "print uvw"
     ],
     "language": "python",
     "metadata": {},
     "outputs": [],
     "prompt_number": "*"
    },
    {
     "cell_type": "raw",
     "metadata": {},
     "source": [
      "The following plots the observation uv-coverage"
     ]
    },
    {
     "cell_type": "code",
     "collapsed": false,
     "input": [
      "pylab.plot(uvw[:,0],uvw[:,1], \".b\",-uvw[:,0],-uvw[:,1], \".g\", markersize=1)\n",
      "\n",
      "pylab.axis('image')\n",
      "\n",
      "pylab.xlabel(\"u(m)\")\n",
      "pylab.ylabel(\"v(m)\")\n",
      "\n",
      "pylab.show()"
     ],
     "language": "python",
     "metadata": {},
     "outputs": [],
     "prompt_number": "*"
    },
    {
     "cell_type": "raw",
     "metadata": {},
     "source": [
      "Now let see how to extract the DATA for each baseline"
     ]
    },
    {
     "cell_type": "code",
     "collapsed": false,
     "input": [
      "na = np.max(A1)+1 # the number of antennas\n",
      "print na"
     ],
     "language": "python",
     "metadata": {},
     "outputs": [],
     "prompt_number": "*"
    },
    {
     "cell_type": "code",
     "collapsed": false,
     "input": [
      "for p in range(na):\n",
      "    for q in range(na):\n",
      "        indbase = (A1==p)&(A2==q) # an array of indexes for this baseline\n",
      "        datapq = DATA[indbase] # data for baseline pq\n",
      "        # here you can do what you want with datapq, for example let us print the average data for the baseline pq\n",
      "        # the result for the baseline is an array of 4 Stocks parameters I,Q,U,V\n",
      "        #print \"average data, baseline p=%d, q=%d, %s\"%(p,q, datapq.mean(axis=0))\n",
      "        \n",
      "        "
     ],
     "language": "python",
     "metadata": {},
     "outputs": [],
     "prompt_number": "*"
    },
    {
     "cell_type": "raw",
     "metadata": {},
     "source": [
      "remove the lock on the measurement set to give the opportunity for another process to access"
     ]
    },
    {
     "cell_type": "code",
     "collapsed": false,
     "input": [
      "tab.close()"
     ],
     "language": "python",
     "metadata": {},
     "outputs": [],
     "prompt_number": "*"
    },
    {
     "cell_type": "code",
     "collapsed": false,
     "input": [],
     "language": "python",
     "metadata": {},
     "outputs": []
    }
   ],
   "metadata": {}
  }
 ]
}